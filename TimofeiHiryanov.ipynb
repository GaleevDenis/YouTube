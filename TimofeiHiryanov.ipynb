{
 "cells": [
  {
   "cell_type": "code",
   "execution_count": 5,
   "metadata": {},
   "outputs": [
    {
     "name": "stdout",
     "output_type": "stream",
     "text": [
      "Hello, world\n",
      "Hello, world\n",
      "<class 'str'>\n"
     ]
    }
   ],
   "source": [
    "print(\"Hello, world\")\n",
    "x = \"Hello, world\"\n",
    "print(x)\n",
    "print(type(x))"
   ]
  },
  {
   "cell_type": "code",
   "execution_count": null,
   "metadata": {},
   "outputs": [],
   "source": [
    "# через 1 доп. переменную\n",
    "a = 2\n",
    "b = 5\n",
    "tmp = a\n",
    "a = b\n",
    "b = tmp\n",
    "\n",
    "# через 2 доп. переменные\n",
    "a = 2\n",
    "b = 5\n",
    "tmp1 = b\n",
    "tmp2 = a\n",
    "a = tmp1\n",
    "b = tmp2\n",
    "# можно сократить по другому\n",
    "tmp1, tmp2 = b, a\n",
    "a, b = tmp1, tmp2\n",
    "#Сократим\n",
    "a, b = b, a # Происходит одновременно"
   ]
  },
  {
   "cell_type": "code",
   "execution_count": 7,
   "metadata": {},
   "outputs": [
    {
     "name": "stdout",
     "output_type": "stream",
     "text": [
      "1 2 3\n"
     ]
    }
   ],
   "source": [
    "x = y = z = 0 # Каскадное присваивание, все равны 0\n",
    "x, y, z = 1, 2, 3 # Множественное присваивание. Кортеж переменных и картеж значений x = 1, y = 2, z = 3\n",
    "print(x, y, z)"
   ]
  },
  {
   "cell_type": "code",
   "execution_count": 12,
   "metadata": {},
   "outputs": [
    {
     "name": "stdout",
     "output_type": "stream",
     "text": [
      "256\n"
     ]
    }
   ],
   "source": [
    "# Арифметические операции на Python\n",
    "\n",
    "# Самая высокоприоритетная операция (по приоритету) при прочих равных первой происходит операция cлева\n",
    "# 1. по приоритету\n",
    "x**y # возведение в степень\n",
    "3**0.5 # корень из трех\n",
    "a**b**c # a в степени b в степени с, при прочих равных первой происходит операция cправа с\n",
    "\n",
    "# 2. Унарный - -x = -x\n",
    "\n",
    "# 3. Умножение и деление\n",
    "# Умножение x * y\n",
    "# Деление x / y, при делении двух 2(int)/3(int) = 0.6666(float)\n",
    "# Целочисленное деление(с отбрасыванием остатка) x // y\n",
    "# Остаток от деление x % y \n",
    "# все эти операции (3.) имеют одинаковый приоритет \n",
    "\n",
    "# 4. Сложение и вычитание "
   ]
  },
  {
   "cell_type": "code",
   "execution_count": 1,
   "metadata": {},
   "outputs": [
    {
     "name": "stdout",
     "output_type": "stream",
     "text": [
      "-3\n",
      "3\n"
     ]
    }
   ],
   "source": [
    "print((-12)//5)\n",
    "print(-12%5)"
   ]
  },
  {
   "cell_type": "code",
   "execution_count": null,
   "metadata": {},
   "outputs": [],
   "source": [
    "# Цикл while\n",
    "# While условие:\n",
    "# оператор 1\n",
    "# оператор 2"
   ]
  },
  {
   "cell_type": "code",
   "execution_count": null,
   "metadata": {},
   "outputs": [],
   "source": [
    "# x = x + 1 == x += 1\n",
    "# x = x - 1 == x -= 1"
   ]
  },
  {
   "cell_type": "code",
   "execution_count": 1,
   "metadata": {},
   "outputs": [
    {
     "name": "stdout",
     "output_type": "stream",
     "text": [
      "False\n"
     ]
    }
   ],
   "source": [
    "flag = False # Если хоть одно число делится нацело на 10 выводить True\n",
    "N = int(input())\n",
    "for i in range(N):\n",
    "    x = int(input())\n",
    "    flag = (x % 10 == 0) or flag\n",
    "print(flag)"
   ]
  },
  {
   "cell_type": "code",
   "execution_count": null,
   "metadata": {},
   "outputs": [],
   "source": [
    "flag = True # Если хоть одно число не делится нацело на 10 выводить False\n",
    "N = int(input())\n",
    "for i in range(N):\n",
    "    x = int(input())\n",
    "    flag = (flag and\n",
    "            x % 10 == 0)\n",
    "print(flag) "
   ]
  },
  {
   "cell_type": "code",
   "execution_count": 6,
   "metadata": {},
   "outputs": [
    {
     "name": "stdout",
     "output_type": "stream",
     "text": [
      "6\n"
     ]
    }
   ],
   "source": []
  },
  {
   "cell_type": "code",
   "execution_count": null,
   "metadata": {},
   "outputs": [],
   "source": []
  }
 ],
 "metadata": {
  "kernelspec": {
   "display_name": "base",
   "language": "python",
   "name": "python3"
  },
  "language_info": {
   "codemirror_mode": {
    "name": "ipython",
    "version": 3
   },
   "file_extension": ".py",
   "mimetype": "text/x-python",
   "name": "python",
   "nbconvert_exporter": "python",
   "pygments_lexer": "ipython3",
   "version": "3.9.13"
  },
  "orig_nbformat": 4
 },
 "nbformat": 4,
 "nbformat_minor": 2
}
